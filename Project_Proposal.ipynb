{
  "nbformat": 4,
  "nbformat_minor": 0,
  "metadata": {
    "colab": {
      "provenance": [],
      "authorship_tag": "ABX9TyMr9daqejLBS5fZzBBKqaVe",
      "include_colab_link": true
    },
    "kernelspec": {
      "name": "python3",
      "display_name": "Python 3"
    },
    "language_info": {
      "name": "python"
    }
  },
  "cells": [
    {
      "cell_type": "markdown",
      "metadata": {
        "id": "view-in-github",
        "colab_type": "text"
      },
      "source": [
        "<a href=\"https://colab.research.google.com/github/joshlensing/Coding-Dojo-Project-2/blob/main/Project_Proposal.ipynb\" target=\"_parent\"><img src=\"https://colab.research.google.com/assets/colab-badge.svg\" alt=\"Open In Colab\"/></a>"
      ]
    },
    {
      "cell_type": "markdown",
      "source": [
        "# Project Proposal\n",
        "\n",
        "- Name: Joshua Lensing\n",
        "- Coding Dojo Data Science Course"
      ],
      "metadata": {
        "id": "vwzdauFQCl2L"
      }
    },
    {
      "cell_type": "markdown",
      "source": [
        "## Proposal Number 1\n",
        "\n",
        "For my first project proposal, I want to use baseball stats from baseball teams from 1962-2012 in order to predict whether teams will make the playoffs or not. I am a very big fan of baseball and have been since I was 8 years old. Baseball data and analytics are becoming a very big component of how professional baseball teams operate and I would love to someday be working in those departments for a major league club. A lot of this dataset comes from the idea of \"Moneyball,\" where Billy Beane, the GM of the Oakland Athletics, found statisitics relating to individual player performance that scouts and other front offices were not focused on at the time. He hoped to use those background statistics and develop a formula for success that didn't require spending a large amount of money to build a roster of players. Instead, he hoped to find players that scored well in these statistical categories that other teams would often overlook and pay them cheaply to play for the Athletics."
      ],
      "metadata": {
        "id": "Oq8koIwwC-Jp"
      }
    },
    {
      "cell_type": "markdown",
      "source": [
        "1. Source of the dataset: https://www.kaggle.com/datasets/wduckett/moneyball-mlb-stats-19622012\n"
      ],
      "metadata": {
        "id": "m3zrCtlJE87G"
      }
    },
    {
      "cell_type": "code",
      "source": [
        "import pandas as pd"
      ],
      "metadata": {
        "id": "lPXgEChEFsBl"
      },
      "execution_count": 2,
      "outputs": []
    },
    {
      "cell_type": "code",
      "execution_count": 5,
      "metadata": {
        "colab": {
          "base_uri": "https://localhost:8080/",
          "height": 206
        },
        "id": "uFR4ZemkCSTL",
        "outputId": "2b6c7c87-5894-4cc3-caee-7cb8b4cff3d0"
      },
      "outputs": [
        {
          "output_type": "execute_result",
          "data": {
            "text/plain": [
              "  Team League  Year   RS   RA   W    OBP    SLG     BA  Playoffs  RankSeason  \\\n",
              "0  ARI     NL  2012  734  688  81  0.328  0.418  0.259         0         NaN   \n",
              "1  ATL     NL  2012  700  600  94  0.320  0.389  0.247         1         4.0   \n",
              "2  BAL     AL  2012  712  705  93  0.311  0.417  0.247         1         5.0   \n",
              "3  BOS     AL  2012  734  806  69  0.315  0.415  0.260         0         NaN   \n",
              "4  CHC     NL  2012  613  759  61  0.302  0.378  0.240         0         NaN   \n",
              "\n",
              "   RankPlayoffs    G   OOBP   OSLG  \n",
              "0           NaN  162  0.317  0.415  \n",
              "1           5.0  162  0.306  0.378  \n",
              "2           4.0  162  0.315  0.403  \n",
              "3           NaN  162  0.331  0.428  \n",
              "4           NaN  162  0.335  0.424  "
            ],
            "text/html": [
              "\n",
              "  <div id=\"df-20506a63-9395-4c09-80f0-eaeafb93a9ed\">\n",
              "    <div class=\"colab-df-container\">\n",
              "      <div>\n",
              "<style scoped>\n",
              "    .dataframe tbody tr th:only-of-type {\n",
              "        vertical-align: middle;\n",
              "    }\n",
              "\n",
              "    .dataframe tbody tr th {\n",
              "        vertical-align: top;\n",
              "    }\n",
              "\n",
              "    .dataframe thead th {\n",
              "        text-align: right;\n",
              "    }\n",
              "</style>\n",
              "<table border=\"1\" class=\"dataframe\">\n",
              "  <thead>\n",
              "    <tr style=\"text-align: right;\">\n",
              "      <th></th>\n",
              "      <th>Team</th>\n",
              "      <th>League</th>\n",
              "      <th>Year</th>\n",
              "      <th>RS</th>\n",
              "      <th>RA</th>\n",
              "      <th>W</th>\n",
              "      <th>OBP</th>\n",
              "      <th>SLG</th>\n",
              "      <th>BA</th>\n",
              "      <th>Playoffs</th>\n",
              "      <th>RankSeason</th>\n",
              "      <th>RankPlayoffs</th>\n",
              "      <th>G</th>\n",
              "      <th>OOBP</th>\n",
              "      <th>OSLG</th>\n",
              "    </tr>\n",
              "  </thead>\n",
              "  <tbody>\n",
              "    <tr>\n",
              "      <th>0</th>\n",
              "      <td>ARI</td>\n",
              "      <td>NL</td>\n",
              "      <td>2012</td>\n",
              "      <td>734</td>\n",
              "      <td>688</td>\n",
              "      <td>81</td>\n",
              "      <td>0.328</td>\n",
              "      <td>0.418</td>\n",
              "      <td>0.259</td>\n",
              "      <td>0</td>\n",
              "      <td>NaN</td>\n",
              "      <td>NaN</td>\n",
              "      <td>162</td>\n",
              "      <td>0.317</td>\n",
              "      <td>0.415</td>\n",
              "    </tr>\n",
              "    <tr>\n",
              "      <th>1</th>\n",
              "      <td>ATL</td>\n",
              "      <td>NL</td>\n",
              "      <td>2012</td>\n",
              "      <td>700</td>\n",
              "      <td>600</td>\n",
              "      <td>94</td>\n",
              "      <td>0.320</td>\n",
              "      <td>0.389</td>\n",
              "      <td>0.247</td>\n",
              "      <td>1</td>\n",
              "      <td>4.0</td>\n",
              "      <td>5.0</td>\n",
              "      <td>162</td>\n",
              "      <td>0.306</td>\n",
              "      <td>0.378</td>\n",
              "    </tr>\n",
              "    <tr>\n",
              "      <th>2</th>\n",
              "      <td>BAL</td>\n",
              "      <td>AL</td>\n",
              "      <td>2012</td>\n",
              "      <td>712</td>\n",
              "      <td>705</td>\n",
              "      <td>93</td>\n",
              "      <td>0.311</td>\n",
              "      <td>0.417</td>\n",
              "      <td>0.247</td>\n",
              "      <td>1</td>\n",
              "      <td>5.0</td>\n",
              "      <td>4.0</td>\n",
              "      <td>162</td>\n",
              "      <td>0.315</td>\n",
              "      <td>0.403</td>\n",
              "    </tr>\n",
              "    <tr>\n",
              "      <th>3</th>\n",
              "      <td>BOS</td>\n",
              "      <td>AL</td>\n",
              "      <td>2012</td>\n",
              "      <td>734</td>\n",
              "      <td>806</td>\n",
              "      <td>69</td>\n",
              "      <td>0.315</td>\n",
              "      <td>0.415</td>\n",
              "      <td>0.260</td>\n",
              "      <td>0</td>\n",
              "      <td>NaN</td>\n",
              "      <td>NaN</td>\n",
              "      <td>162</td>\n",
              "      <td>0.331</td>\n",
              "      <td>0.428</td>\n",
              "    </tr>\n",
              "    <tr>\n",
              "      <th>4</th>\n",
              "      <td>CHC</td>\n",
              "      <td>NL</td>\n",
              "      <td>2012</td>\n",
              "      <td>613</td>\n",
              "      <td>759</td>\n",
              "      <td>61</td>\n",
              "      <td>0.302</td>\n",
              "      <td>0.378</td>\n",
              "      <td>0.240</td>\n",
              "      <td>0</td>\n",
              "      <td>NaN</td>\n",
              "      <td>NaN</td>\n",
              "      <td>162</td>\n",
              "      <td>0.335</td>\n",
              "      <td>0.424</td>\n",
              "    </tr>\n",
              "  </tbody>\n",
              "</table>\n",
              "</div>\n",
              "      <button class=\"colab-df-convert\" onclick=\"convertToInteractive('df-20506a63-9395-4c09-80f0-eaeafb93a9ed')\"\n",
              "              title=\"Convert this dataframe to an interactive table.\"\n",
              "              style=\"display:none;\">\n",
              "        \n",
              "  <svg xmlns=\"http://www.w3.org/2000/svg\" height=\"24px\"viewBox=\"0 0 24 24\"\n",
              "       width=\"24px\">\n",
              "    <path d=\"M0 0h24v24H0V0z\" fill=\"none\"/>\n",
              "    <path d=\"M18.56 5.44l.94 2.06.94-2.06 2.06-.94-2.06-.94-.94-2.06-.94 2.06-2.06.94zm-11 1L8.5 8.5l.94-2.06 2.06-.94-2.06-.94L8.5 2.5l-.94 2.06-2.06.94zm10 10l.94 2.06.94-2.06 2.06-.94-2.06-.94-.94-2.06-.94 2.06-2.06.94z\"/><path d=\"M17.41 7.96l-1.37-1.37c-.4-.4-.92-.59-1.43-.59-.52 0-1.04.2-1.43.59L10.3 9.45l-7.72 7.72c-.78.78-.78 2.05 0 2.83L4 21.41c.39.39.9.59 1.41.59.51 0 1.02-.2 1.41-.59l7.78-7.78 2.81-2.81c.8-.78.8-2.07 0-2.86zM5.41 20L4 18.59l7.72-7.72 1.47 1.35L5.41 20z\"/>\n",
              "  </svg>\n",
              "      </button>\n",
              "      \n",
              "  <style>\n",
              "    .colab-df-container {\n",
              "      display:flex;\n",
              "      flex-wrap:wrap;\n",
              "      gap: 12px;\n",
              "    }\n",
              "\n",
              "    .colab-df-convert {\n",
              "      background-color: #E8F0FE;\n",
              "      border: none;\n",
              "      border-radius: 50%;\n",
              "      cursor: pointer;\n",
              "      display: none;\n",
              "      fill: #1967D2;\n",
              "      height: 32px;\n",
              "      padding: 0 0 0 0;\n",
              "      width: 32px;\n",
              "    }\n",
              "\n",
              "    .colab-df-convert:hover {\n",
              "      background-color: #E2EBFA;\n",
              "      box-shadow: 0px 1px 2px rgba(60, 64, 67, 0.3), 0px 1px 3px 1px rgba(60, 64, 67, 0.15);\n",
              "      fill: #174EA6;\n",
              "    }\n",
              "\n",
              "    [theme=dark] .colab-df-convert {\n",
              "      background-color: #3B4455;\n",
              "      fill: #D2E3FC;\n",
              "    }\n",
              "\n",
              "    [theme=dark] .colab-df-convert:hover {\n",
              "      background-color: #434B5C;\n",
              "      box-shadow: 0px 1px 3px 1px rgba(0, 0, 0, 0.15);\n",
              "      filter: drop-shadow(0px 1px 2px rgba(0, 0, 0, 0.3));\n",
              "      fill: #FFFFFF;\n",
              "    }\n",
              "  </style>\n",
              "\n",
              "      <script>\n",
              "        const buttonEl =\n",
              "          document.querySelector('#df-20506a63-9395-4c09-80f0-eaeafb93a9ed button.colab-df-convert');\n",
              "        buttonEl.style.display =\n",
              "          google.colab.kernel.accessAllowed ? 'block' : 'none';\n",
              "\n",
              "        async function convertToInteractive(key) {\n",
              "          const element = document.querySelector('#df-20506a63-9395-4c09-80f0-eaeafb93a9ed');\n",
              "          const dataTable =\n",
              "            await google.colab.kernel.invokeFunction('convertToInteractive',\n",
              "                                                     [key], {});\n",
              "          if (!dataTable) return;\n",
              "\n",
              "          const docLinkHtml = 'Like what you see? Visit the ' +\n",
              "            '<a target=\"_blank\" href=https://colab.research.google.com/notebooks/data_table.ipynb>data table notebook</a>'\n",
              "            + ' to learn more about interactive tables.';\n",
              "          element.innerHTML = '';\n",
              "          dataTable['output_type'] = 'display_data';\n",
              "          await google.colab.output.renderOutput(dataTable, element);\n",
              "          const docLink = document.createElement('div');\n",
              "          docLink.innerHTML = docLinkHtml;\n",
              "          element.appendChild(docLink);\n",
              "        }\n",
              "      </script>\n",
              "    </div>\n",
              "  </div>\n",
              "  "
            ]
          },
          "metadata": {},
          "execution_count": 5
        }
      ],
      "source": [
        "df = pd.read_csv('/content/baseball.csv')\n",
        "df.head()"
      ]
    },
    {
      "cell_type": "code",
      "source": [
        "df.shape"
      ],
      "metadata": {
        "colab": {
          "base_uri": "https://localhost:8080/"
        },
        "id": "Psn3dReAH7WU",
        "outputId": "fe562344-d661-4976-8a2d-39c80ddc1a0c"
      },
      "execution_count": 6,
      "outputs": [
        {
          "output_type": "execute_result",
          "data": {
            "text/plain": [
              "(1232, 15)"
            ]
          },
          "metadata": {},
          "execution_count": 6
        }
      ]
    },
    {
      "cell_type": "markdown",
      "source": [
        "2. The data shows the stats from teams of both the American and National Leagues and from each year from 1962-2012. The stats strictly show hitting stats, team wins, and teams runs scored and allowed. It also has a column for if the team made the playoffs.\n",
        "\n",
        "3. **What is the target?** The target of the data is the 'Playoffs' column. This determines whether or not the team made the playoffs or not.\n",
        "\n",
        "4. **What does one row represent?** One row of the dataset represents a team.\n",
        "\n",
        "5. **Is this a classification or regression problem?** The target is a classification problem, as I am looking for 1 of 2 outcomes.\n",
        "\n",
        "6. **How many features does the data have?** It has 14 features, a couple of which may end up being dropped ('RankSeason' and 'RankPlayoff').\n",
        "\n",
        "7. **How many rows are in the dataset?** There are 1,232 rows.\n",
        "\n",
        "8. **What, if any, challenges do you foresee in cleaning, exploring, or modeling with this dataset?** The statistical data all appears to be intact for each row, except for the final 2 columns, which are unclear as to what they are as they already have a similar column in the dataset. I don't anticipate too many hurdles with this dataset."
      ],
      "metadata": {
        "id": "MLilxl9zGEdT"
      }
    },
    {
      "cell_type": "markdown",
      "source": [
        "##Proposal Number 2\n",
        "\n",
        "My second project proposal has a couple different meanings to me. I went to school for my neuroscince degree and my grandfather died from complications due to Alzheimer's. My dad also currently has Parkinson's disease, so neurological disorders hit very close to home with me. I would have chosen a Parkinson's disease dataset as my first proposal, but I could not find a dataset large enough to use.\n",
        "\n",
        "I currently work in for a biotech company as a small rodent surgeon and I feel that finding a job in the biomedical community may also be a great fit. Combining both of those aspects of my life together makes for a very interesting project."
      ],
      "metadata": {
        "id": "JDAT3_XcJgYC"
      }
    },
    {
      "cell_type": "markdown",
      "source": [
        "1. Source: https://www.kaggle.com/datasets/brsdincer/alzheimer-features"
      ],
      "metadata": {
        "id": "OpDGiwpdQn_P"
      }
    },
    {
      "cell_type": "code",
      "source": [
        "df = pd.read_csv('/content/alzheimer.csv')\n",
        "df.head()"
      ],
      "metadata": {
        "colab": {
          "base_uri": "https://localhost:8080/",
          "height": 206
        },
        "id": "pVKNBz_LFqhG",
        "outputId": "1786e965-38bd-4ee3-e750-2ad4748fb603"
      },
      "execution_count": 11,
      "outputs": [
        {
          "output_type": "execute_result",
          "data": {
            "text/plain": [
              "         Group M/F  Age  EDUC  SES  MMSE  CDR  eTIV   nWBV    ASF\n",
              "0  Nondemented   M   87    14  2.0  27.0  0.0  1987  0.696  0.883\n",
              "1  Nondemented   M   88    14  2.0  30.0  0.0  2004  0.681  0.876\n",
              "2     Demented   M   75    12  NaN  23.0  0.5  1678  0.736  1.046\n",
              "3     Demented   M   76    12  NaN  28.0  0.5  1738  0.713  1.010\n",
              "4     Demented   M   80    12  NaN  22.0  0.5  1698  0.701  1.034"
            ],
            "text/html": [
              "\n",
              "  <div id=\"df-3f1c9fc3-1a02-4c97-b195-234de1f62b76\">\n",
              "    <div class=\"colab-df-container\">\n",
              "      <div>\n",
              "<style scoped>\n",
              "    .dataframe tbody tr th:only-of-type {\n",
              "        vertical-align: middle;\n",
              "    }\n",
              "\n",
              "    .dataframe tbody tr th {\n",
              "        vertical-align: top;\n",
              "    }\n",
              "\n",
              "    .dataframe thead th {\n",
              "        text-align: right;\n",
              "    }\n",
              "</style>\n",
              "<table border=\"1\" class=\"dataframe\">\n",
              "  <thead>\n",
              "    <tr style=\"text-align: right;\">\n",
              "      <th></th>\n",
              "      <th>Group</th>\n",
              "      <th>M/F</th>\n",
              "      <th>Age</th>\n",
              "      <th>EDUC</th>\n",
              "      <th>SES</th>\n",
              "      <th>MMSE</th>\n",
              "      <th>CDR</th>\n",
              "      <th>eTIV</th>\n",
              "      <th>nWBV</th>\n",
              "      <th>ASF</th>\n",
              "    </tr>\n",
              "  </thead>\n",
              "  <tbody>\n",
              "    <tr>\n",
              "      <th>0</th>\n",
              "      <td>Nondemented</td>\n",
              "      <td>M</td>\n",
              "      <td>87</td>\n",
              "      <td>14</td>\n",
              "      <td>2.0</td>\n",
              "      <td>27.0</td>\n",
              "      <td>0.0</td>\n",
              "      <td>1987</td>\n",
              "      <td>0.696</td>\n",
              "      <td>0.883</td>\n",
              "    </tr>\n",
              "    <tr>\n",
              "      <th>1</th>\n",
              "      <td>Nondemented</td>\n",
              "      <td>M</td>\n",
              "      <td>88</td>\n",
              "      <td>14</td>\n",
              "      <td>2.0</td>\n",
              "      <td>30.0</td>\n",
              "      <td>0.0</td>\n",
              "      <td>2004</td>\n",
              "      <td>0.681</td>\n",
              "      <td>0.876</td>\n",
              "    </tr>\n",
              "    <tr>\n",
              "      <th>2</th>\n",
              "      <td>Demented</td>\n",
              "      <td>M</td>\n",
              "      <td>75</td>\n",
              "      <td>12</td>\n",
              "      <td>NaN</td>\n",
              "      <td>23.0</td>\n",
              "      <td>0.5</td>\n",
              "      <td>1678</td>\n",
              "      <td>0.736</td>\n",
              "      <td>1.046</td>\n",
              "    </tr>\n",
              "    <tr>\n",
              "      <th>3</th>\n",
              "      <td>Demented</td>\n",
              "      <td>M</td>\n",
              "      <td>76</td>\n",
              "      <td>12</td>\n",
              "      <td>NaN</td>\n",
              "      <td>28.0</td>\n",
              "      <td>0.5</td>\n",
              "      <td>1738</td>\n",
              "      <td>0.713</td>\n",
              "      <td>1.010</td>\n",
              "    </tr>\n",
              "    <tr>\n",
              "      <th>4</th>\n",
              "      <td>Demented</td>\n",
              "      <td>M</td>\n",
              "      <td>80</td>\n",
              "      <td>12</td>\n",
              "      <td>NaN</td>\n",
              "      <td>22.0</td>\n",
              "      <td>0.5</td>\n",
              "      <td>1698</td>\n",
              "      <td>0.701</td>\n",
              "      <td>1.034</td>\n",
              "    </tr>\n",
              "  </tbody>\n",
              "</table>\n",
              "</div>\n",
              "      <button class=\"colab-df-convert\" onclick=\"convertToInteractive('df-3f1c9fc3-1a02-4c97-b195-234de1f62b76')\"\n",
              "              title=\"Convert this dataframe to an interactive table.\"\n",
              "              style=\"display:none;\">\n",
              "        \n",
              "  <svg xmlns=\"http://www.w3.org/2000/svg\" height=\"24px\"viewBox=\"0 0 24 24\"\n",
              "       width=\"24px\">\n",
              "    <path d=\"M0 0h24v24H0V0z\" fill=\"none\"/>\n",
              "    <path d=\"M18.56 5.44l.94 2.06.94-2.06 2.06-.94-2.06-.94-.94-2.06-.94 2.06-2.06.94zm-11 1L8.5 8.5l.94-2.06 2.06-.94-2.06-.94L8.5 2.5l-.94 2.06-2.06.94zm10 10l.94 2.06.94-2.06 2.06-.94-2.06-.94-.94-2.06-.94 2.06-2.06.94z\"/><path d=\"M17.41 7.96l-1.37-1.37c-.4-.4-.92-.59-1.43-.59-.52 0-1.04.2-1.43.59L10.3 9.45l-7.72 7.72c-.78.78-.78 2.05 0 2.83L4 21.41c.39.39.9.59 1.41.59.51 0 1.02-.2 1.41-.59l7.78-7.78 2.81-2.81c.8-.78.8-2.07 0-2.86zM5.41 20L4 18.59l7.72-7.72 1.47 1.35L5.41 20z\"/>\n",
              "  </svg>\n",
              "      </button>\n",
              "      \n",
              "  <style>\n",
              "    .colab-df-container {\n",
              "      display:flex;\n",
              "      flex-wrap:wrap;\n",
              "      gap: 12px;\n",
              "    }\n",
              "\n",
              "    .colab-df-convert {\n",
              "      background-color: #E8F0FE;\n",
              "      border: none;\n",
              "      border-radius: 50%;\n",
              "      cursor: pointer;\n",
              "      display: none;\n",
              "      fill: #1967D2;\n",
              "      height: 32px;\n",
              "      padding: 0 0 0 0;\n",
              "      width: 32px;\n",
              "    }\n",
              "\n",
              "    .colab-df-convert:hover {\n",
              "      background-color: #E2EBFA;\n",
              "      box-shadow: 0px 1px 2px rgba(60, 64, 67, 0.3), 0px 1px 3px 1px rgba(60, 64, 67, 0.15);\n",
              "      fill: #174EA6;\n",
              "    }\n",
              "\n",
              "    [theme=dark] .colab-df-convert {\n",
              "      background-color: #3B4455;\n",
              "      fill: #D2E3FC;\n",
              "    }\n",
              "\n",
              "    [theme=dark] .colab-df-convert:hover {\n",
              "      background-color: #434B5C;\n",
              "      box-shadow: 0px 1px 3px 1px rgba(0, 0, 0, 0.15);\n",
              "      filter: drop-shadow(0px 1px 2px rgba(0, 0, 0, 0.3));\n",
              "      fill: #FFFFFF;\n",
              "    }\n",
              "  </style>\n",
              "\n",
              "      <script>\n",
              "        const buttonEl =\n",
              "          document.querySelector('#df-3f1c9fc3-1a02-4c97-b195-234de1f62b76 button.colab-df-convert');\n",
              "        buttonEl.style.display =\n",
              "          google.colab.kernel.accessAllowed ? 'block' : 'none';\n",
              "\n",
              "        async function convertToInteractive(key) {\n",
              "          const element = document.querySelector('#df-3f1c9fc3-1a02-4c97-b195-234de1f62b76');\n",
              "          const dataTable =\n",
              "            await google.colab.kernel.invokeFunction('convertToInteractive',\n",
              "                                                     [key], {});\n",
              "          if (!dataTable) return;\n",
              "\n",
              "          const docLinkHtml = 'Like what you see? Visit the ' +\n",
              "            '<a target=\"_blank\" href=https://colab.research.google.com/notebooks/data_table.ipynb>data table notebook</a>'\n",
              "            + ' to learn more about interactive tables.';\n",
              "          element.innerHTML = '';\n",
              "          dataTable['output_type'] = 'display_data';\n",
              "          await google.colab.output.renderOutput(dataTable, element);\n",
              "          const docLink = document.createElement('div');\n",
              "          docLink.innerHTML = docLinkHtml;\n",
              "          element.appendChild(docLink);\n",
              "        }\n",
              "      </script>\n",
              "    </div>\n",
              "  </div>\n",
              "  "
            ]
          },
          "metadata": {},
          "execution_count": 11
        }
      ]
    },
    {
      "cell_type": "code",
      "source": [
        "df.shape"
      ],
      "metadata": {
        "colab": {
          "base_uri": "https://localhost:8080/"
        },
        "id": "ngQySDRRMc-3",
        "outputId": "832a3207-a708-4fb7-8b0a-d6b1ab7a8935"
      },
      "execution_count": 12,
      "outputs": [
        {
          "output_type": "execute_result",
          "data": {
            "text/plain": [
              "(373, 10)"
            ]
          },
          "metadata": {},
          "execution_count": 12
        }
      ]
    },
    {
      "cell_type": "markdown",
      "source": [
        "2. The data contains measurements of brain volume, a mental state examination, age, socioeconomic status, and years of education. All of these are compiled together with a determination if they have Alzheimer's disease or not.\n",
        "\n",
        "3. **What is the target?** The target is the 'Group' column, which determines if the person has been diagnosed with Alzheimer's disease or not. 'Demented' would be the positive class and 'Nondemented' would be the negative class.\n",
        "\n",
        "4. **What does one row represent?** One row represents a person.\n",
        "\n",
        "5. **Is this a classification problem or regression?** This is a classification problem.\n",
        "\n",
        "6. **How many features does the data have?** The data has 8 features.\n",
        "\n",
        "7. **How many rows are in the dataset?** There are 373 rows.\n",
        "\n",
        "8. **What, if any, challenges do you foresee in cleaning, exploring, or modeling with this dataset?** The dataset may not be big enough with 8 features and 373 rows. It may not allow the models to score very well in their predictions. There is also some missing data as well."
      ],
      "metadata": {
        "id": "Wu_kGggdQuWM"
      }
    },
    {
      "cell_type": "code",
      "source": [],
      "metadata": {
        "id": "Sr1pb91GMgwM"
      },
      "execution_count": null,
      "outputs": []
    }
  ]
}