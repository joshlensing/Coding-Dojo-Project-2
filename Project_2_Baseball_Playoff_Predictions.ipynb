{
  "nbformat": 4,
  "nbformat_minor": 0,
  "metadata": {
    "colab": {
      "provenance": [],
      "authorship_tag": "ABX9TyMrPREsl1Z7lnQkKGahfJQ8",
      "include_colab_link": true
    },
    "kernelspec": {
      "name": "python3",
      "display_name": "Python 3"
    },
    "language_info": {
      "name": "python"
    }
  },
  "cells": [
    {
      "cell_type": "markdown",
      "metadata": {
        "id": "view-in-github",
        "colab_type": "text"
      },
      "source": [
        "<a href=\"https://colab.research.google.com/github/joshlensing/Coding-Dojo-Project-2/blob/main/Project_2_Baseball_Playoff_Predictions.ipynb\" target=\"_parent\"><img src=\"https://colab.research.google.com/assets/colab-badge.svg\" alt=\"Open In Colab\"/></a>"
      ]
    },
    {
      "cell_type": "markdown",
      "source": [
        "# Baseball Playoffs Predictions\n",
        "\n",
        "I want to use baseball stats from baseball teams from 1962-2012 in order to predict whether teams will make the playoffs or not. I am a very big fan of baseball and have been since I was 8 years old. Baseball data and analytics are becoming a very big component of how professional baseball teams operate. A lot of this dataset comes from the idea of \"Moneyball,\" where Billy Beane, the GM of the Oakland Athletics, found statisitics relating to individual player performance that scouts and other front offices were not focused on at the time. He hoped to use those background statistics and develop a formula for success that didn't require spending a large amount of money to build a roster of players. Instead, he hoped to find players that scored well in these statistical categories that other teams would often overlook and pay them cheaply to play for the Athletics. The hope was to ultimately make the playoffs and compete for a championship."
      ],
      "metadata": {
        "id": "Ib0J5PxlMRTo"
      }
    },
    {
      "cell_type": "code",
      "execution_count": 2,
      "metadata": {
        "id": "WtluMZF4L30u"
      },
      "outputs": [],
      "source": [
        "# imports\n",
        "import pandas as pd\n",
        "import numpy as np\n",
        "import matplotlib.pyplot as plt\n",
        "import seaborn as sns"
      ]
    },
    {
      "cell_type": "code",
      "source": [
        "df = pd.read_csv('/content/baseball.csv')\n",
        "df.head()"
      ],
      "metadata": {
        "colab": {
          "base_uri": "https://localhost:8080/",
          "height": 206
        },
        "id": "QcHOZH4TNLsW",
        "outputId": "871a952c-6ee4-436c-ce7a-b41401397256"
      },
      "execution_count": 3,
      "outputs": [
        {
          "output_type": "execute_result",
          "data": {
            "text/plain": [
              "  Team League  Year   RS   RA   W    OBP    SLG     BA  Playoffs  RankSeason  \\\n",
              "0  ARI     NL  2012  734  688  81  0.328  0.418  0.259         0         NaN   \n",
              "1  ATL     NL  2012  700  600  94  0.320  0.389  0.247         1         4.0   \n",
              "2  BAL     AL  2012  712  705  93  0.311  0.417  0.247         1         5.0   \n",
              "3  BOS     AL  2012  734  806  69  0.315  0.415  0.260         0         NaN   \n",
              "4  CHC     NL  2012  613  759  61  0.302  0.378  0.240         0         NaN   \n",
              "\n",
              "   RankPlayoffs    G   OOBP   OSLG  \n",
              "0           NaN  162  0.317  0.415  \n",
              "1           5.0  162  0.306  0.378  \n",
              "2           4.0  162  0.315  0.403  \n",
              "3           NaN  162  0.331  0.428  \n",
              "4           NaN  162  0.335  0.424  "
            ],
            "text/html": [
              "\n",
              "  <div id=\"df-4b0f4cf2-c432-4248-8ed7-0be9663b81b6\">\n",
              "    <div class=\"colab-df-container\">\n",
              "      <div>\n",
              "<style scoped>\n",
              "    .dataframe tbody tr th:only-of-type {\n",
              "        vertical-align: middle;\n",
              "    }\n",
              "\n",
              "    .dataframe tbody tr th {\n",
              "        vertical-align: top;\n",
              "    }\n",
              "\n",
              "    .dataframe thead th {\n",
              "        text-align: right;\n",
              "    }\n",
              "</style>\n",
              "<table border=\"1\" class=\"dataframe\">\n",
              "  <thead>\n",
              "    <tr style=\"text-align: right;\">\n",
              "      <th></th>\n",
              "      <th>Team</th>\n",
              "      <th>League</th>\n",
              "      <th>Year</th>\n",
              "      <th>RS</th>\n",
              "      <th>RA</th>\n",
              "      <th>W</th>\n",
              "      <th>OBP</th>\n",
              "      <th>SLG</th>\n",
              "      <th>BA</th>\n",
              "      <th>Playoffs</th>\n",
              "      <th>RankSeason</th>\n",
              "      <th>RankPlayoffs</th>\n",
              "      <th>G</th>\n",
              "      <th>OOBP</th>\n",
              "      <th>OSLG</th>\n",
              "    </tr>\n",
              "  </thead>\n",
              "  <tbody>\n",
              "    <tr>\n",
              "      <th>0</th>\n",
              "      <td>ARI</td>\n",
              "      <td>NL</td>\n",
              "      <td>2012</td>\n",
              "      <td>734</td>\n",
              "      <td>688</td>\n",
              "      <td>81</td>\n",
              "      <td>0.328</td>\n",
              "      <td>0.418</td>\n",
              "      <td>0.259</td>\n",
              "      <td>0</td>\n",
              "      <td>NaN</td>\n",
              "      <td>NaN</td>\n",
              "      <td>162</td>\n",
              "      <td>0.317</td>\n",
              "      <td>0.415</td>\n",
              "    </tr>\n",
              "    <tr>\n",
              "      <th>1</th>\n",
              "      <td>ATL</td>\n",
              "      <td>NL</td>\n",
              "      <td>2012</td>\n",
              "      <td>700</td>\n",
              "      <td>600</td>\n",
              "      <td>94</td>\n",
              "      <td>0.320</td>\n",
              "      <td>0.389</td>\n",
              "      <td>0.247</td>\n",
              "      <td>1</td>\n",
              "      <td>4.0</td>\n",
              "      <td>5.0</td>\n",
              "      <td>162</td>\n",
              "      <td>0.306</td>\n",
              "      <td>0.378</td>\n",
              "    </tr>\n",
              "    <tr>\n",
              "      <th>2</th>\n",
              "      <td>BAL</td>\n",
              "      <td>AL</td>\n",
              "      <td>2012</td>\n",
              "      <td>712</td>\n",
              "      <td>705</td>\n",
              "      <td>93</td>\n",
              "      <td>0.311</td>\n",
              "      <td>0.417</td>\n",
              "      <td>0.247</td>\n",
              "      <td>1</td>\n",
              "      <td>5.0</td>\n",
              "      <td>4.0</td>\n",
              "      <td>162</td>\n",
              "      <td>0.315</td>\n",
              "      <td>0.403</td>\n",
              "    </tr>\n",
              "    <tr>\n",
              "      <th>3</th>\n",
              "      <td>BOS</td>\n",
              "      <td>AL</td>\n",
              "      <td>2012</td>\n",
              "      <td>734</td>\n",
              "      <td>806</td>\n",
              "      <td>69</td>\n",
              "      <td>0.315</td>\n",
              "      <td>0.415</td>\n",
              "      <td>0.260</td>\n",
              "      <td>0</td>\n",
              "      <td>NaN</td>\n",
              "      <td>NaN</td>\n",
              "      <td>162</td>\n",
              "      <td>0.331</td>\n",
              "      <td>0.428</td>\n",
              "    </tr>\n",
              "    <tr>\n",
              "      <th>4</th>\n",
              "      <td>CHC</td>\n",
              "      <td>NL</td>\n",
              "      <td>2012</td>\n",
              "      <td>613</td>\n",
              "      <td>759</td>\n",
              "      <td>61</td>\n",
              "      <td>0.302</td>\n",
              "      <td>0.378</td>\n",
              "      <td>0.240</td>\n",
              "      <td>0</td>\n",
              "      <td>NaN</td>\n",
              "      <td>NaN</td>\n",
              "      <td>162</td>\n",
              "      <td>0.335</td>\n",
              "      <td>0.424</td>\n",
              "    </tr>\n",
              "  </tbody>\n",
              "</table>\n",
              "</div>\n",
              "      <button class=\"colab-df-convert\" onclick=\"convertToInteractive('df-4b0f4cf2-c432-4248-8ed7-0be9663b81b6')\"\n",
              "              title=\"Convert this dataframe to an interactive table.\"\n",
              "              style=\"display:none;\">\n",
              "        \n",
              "  <svg xmlns=\"http://www.w3.org/2000/svg\" height=\"24px\"viewBox=\"0 0 24 24\"\n",
              "       width=\"24px\">\n",
              "    <path d=\"M0 0h24v24H0V0z\" fill=\"none\"/>\n",
              "    <path d=\"M18.56 5.44l.94 2.06.94-2.06 2.06-.94-2.06-.94-.94-2.06-.94 2.06-2.06.94zm-11 1L8.5 8.5l.94-2.06 2.06-.94-2.06-.94L8.5 2.5l-.94 2.06-2.06.94zm10 10l.94 2.06.94-2.06 2.06-.94-2.06-.94-.94-2.06-.94 2.06-2.06.94z\"/><path d=\"M17.41 7.96l-1.37-1.37c-.4-.4-.92-.59-1.43-.59-.52 0-1.04.2-1.43.59L10.3 9.45l-7.72 7.72c-.78.78-.78 2.05 0 2.83L4 21.41c.39.39.9.59 1.41.59.51 0 1.02-.2 1.41-.59l7.78-7.78 2.81-2.81c.8-.78.8-2.07 0-2.86zM5.41 20L4 18.59l7.72-7.72 1.47 1.35L5.41 20z\"/>\n",
              "  </svg>\n",
              "      </button>\n",
              "      \n",
              "  <style>\n",
              "    .colab-df-container {\n",
              "      display:flex;\n",
              "      flex-wrap:wrap;\n",
              "      gap: 12px;\n",
              "    }\n",
              "\n",
              "    .colab-df-convert {\n",
              "      background-color: #E8F0FE;\n",
              "      border: none;\n",
              "      border-radius: 50%;\n",
              "      cursor: pointer;\n",
              "      display: none;\n",
              "      fill: #1967D2;\n",
              "      height: 32px;\n",
              "      padding: 0 0 0 0;\n",
              "      width: 32px;\n",
              "    }\n",
              "\n",
              "    .colab-df-convert:hover {\n",
              "      background-color: #E2EBFA;\n",
              "      box-shadow: 0px 1px 2px rgba(60, 64, 67, 0.3), 0px 1px 3px 1px rgba(60, 64, 67, 0.15);\n",
              "      fill: #174EA6;\n",
              "    }\n",
              "\n",
              "    [theme=dark] .colab-df-convert {\n",
              "      background-color: #3B4455;\n",
              "      fill: #D2E3FC;\n",
              "    }\n",
              "\n",
              "    [theme=dark] .colab-df-convert:hover {\n",
              "      background-color: #434B5C;\n",
              "      box-shadow: 0px 1px 3px 1px rgba(0, 0, 0, 0.15);\n",
              "      filter: drop-shadow(0px 1px 2px rgba(0, 0, 0, 0.3));\n",
              "      fill: #FFFFFF;\n",
              "    }\n",
              "  </style>\n",
              "\n",
              "      <script>\n",
              "        const buttonEl =\n",
              "          document.querySelector('#df-4b0f4cf2-c432-4248-8ed7-0be9663b81b6 button.colab-df-convert');\n",
              "        buttonEl.style.display =\n",
              "          google.colab.kernel.accessAllowed ? 'block' : 'none';\n",
              "\n",
              "        async function convertToInteractive(key) {\n",
              "          const element = document.querySelector('#df-4b0f4cf2-c432-4248-8ed7-0be9663b81b6');\n",
              "          const dataTable =\n",
              "            await google.colab.kernel.invokeFunction('convertToInteractive',\n",
              "                                                     [key], {});\n",
              "          if (!dataTable) return;\n",
              "\n",
              "          const docLinkHtml = 'Like what you see? Visit the ' +\n",
              "            '<a target=\"_blank\" href=https://colab.research.google.com/notebooks/data_table.ipynb>data table notebook</a>'\n",
              "            + ' to learn more about interactive tables.';\n",
              "          element.innerHTML = '';\n",
              "          dataTable['output_type'] = 'display_data';\n",
              "          await google.colab.output.renderOutput(dataTable, element);\n",
              "          const docLink = document.createElement('div');\n",
              "          docLink.innerHTML = docLinkHtml;\n",
              "          element.appendChild(docLink);\n",
              "        }\n",
              "      </script>\n",
              "    </div>\n",
              "  </div>\n",
              "  "
            ]
          },
          "metadata": {},
          "execution_count": 3
        }
      ]
    },
    {
      "cell_type": "markdown",
      "source": [
        "##Exploring and Cleaning the Data"
      ],
      "metadata": {
        "id": "lI338m05Nase"
      }
    },
    {
      "cell_type": "markdown",
      "source": [
        "###Get some information about the data"
      ],
      "metadata": {
        "id": "uCawZrpRNsDG"
      }
    },
    {
      "cell_type": "code",
      "source": [
        "df.info()"
      ],
      "metadata": {
        "colab": {
          "base_uri": "https://localhost:8080/"
        },
        "id": "xQeH7XmvNVhC",
        "outputId": "ae1fdf21-51bc-44ed-a95f-d28e1ab122f0"
      },
      "execution_count": 4,
      "outputs": [
        {
          "output_type": "stream",
          "name": "stdout",
          "text": [
            "<class 'pandas.core.frame.DataFrame'>\n",
            "RangeIndex: 1232 entries, 0 to 1231\n",
            "Data columns (total 15 columns):\n",
            " #   Column        Non-Null Count  Dtype  \n",
            "---  ------        --------------  -----  \n",
            " 0   Team          1232 non-null   object \n",
            " 1   League        1232 non-null   object \n",
            " 2   Year          1232 non-null   int64  \n",
            " 3   RS            1232 non-null   int64  \n",
            " 4   RA            1232 non-null   int64  \n",
            " 5   W             1232 non-null   int64  \n",
            " 6   OBP           1232 non-null   float64\n",
            " 7   SLG           1232 non-null   float64\n",
            " 8   BA            1232 non-null   float64\n",
            " 9   Playoffs      1232 non-null   int64  \n",
            " 10  RankSeason    244 non-null    float64\n",
            " 11  RankPlayoffs  244 non-null    float64\n",
            " 12  G             1232 non-null   int64  \n",
            " 13  OOBP          420 non-null    float64\n",
            " 14  OSLG          420 non-null    float64\n",
            "dtypes: float64(7), int64(6), object(2)\n",
            "memory usage: 144.5+ KB\n"
          ]
        }
      ]
    },
    {
      "cell_type": "markdown",
      "source": [
        "Based on the dtypes from the information about the data, it appears that all of the columns in the dataset match the data dictionary. There also appear to be quite a few missing data values from a couple of columns. Overall there are 1,232 rows and 15 columns."
      ],
      "metadata": {
        "id": "XnjHo7zDN9CY"
      }
    },
    {
      "cell_type": "code",
      "source": [
        "df.shape"
      ],
      "metadata": {
        "colab": {
          "base_uri": "https://localhost:8080/"
        },
        "id": "O8krOEZaNy8b",
        "outputId": "323c69ff-73e0-46ef-851b-5aca022b1e72"
      },
      "execution_count": 5,
      "outputs": [
        {
          "output_type": "execute_result",
          "data": {
            "text/plain": [
              "(1232, 15)"
            ]
          },
          "metadata": {},
          "execution_count": 5
        }
      ]
    },
    {
      "cell_type": "markdown",
      "source": [
        "### Check for duplicated rows"
      ],
      "metadata": {
        "id": "3qgxzKH-OuKV"
      }
    },
    {
      "cell_type": "code",
      "source": [
        "df.duplicated().sum()"
      ],
      "metadata": {
        "colab": {
          "base_uri": "https://localhost:8080/"
        },
        "id": "RT9K7ri2Orst",
        "outputId": "1eb208dc-fbac-4f81-a8f2-38b5e9e3d40c"
      },
      "execution_count": 6,
      "outputs": [
        {
          "output_type": "execute_result",
          "data": {
            "text/plain": [
              "0"
            ]
          },
          "metadata": {},
          "execution_count": 6
        }
      ]
    },
    {
      "cell_type": "markdown",
      "source": [
        "There are 0 duplicated rows. Next I want to look at the missing values more closely and see what I am working with for modeling."
      ],
      "metadata": {
        "id": "-WC-cI_LO_vy"
      }
    },
    {
      "cell_type": "markdown",
      "source": [
        "### Checking for missing values"
      ],
      "metadata": {
        "id": "L8wtUMbUTPv5"
      }
    },
    {
      "cell_type": "code",
      "source": [
        "df.isna().sum()"
      ],
      "metadata": {
        "colab": {
          "base_uri": "https://localhost:8080/"
        },
        "id": "j72q0P3cO8nM",
        "outputId": "f4a1bfe5-899d-45a7-aa54-ceae76cd828c"
      },
      "execution_count": 7,
      "outputs": [
        {
          "output_type": "execute_result",
          "data": {
            "text/plain": [
              "Team              0\n",
              "League            0\n",
              "Year              0\n",
              "RS                0\n",
              "RA                0\n",
              "W                 0\n",
              "OBP               0\n",
              "SLG               0\n",
              "BA                0\n",
              "Playoffs          0\n",
              "RankSeason      988\n",
              "RankPlayoffs    988\n",
              "G                 0\n",
              "OOBP            812\n",
              "OSLG            812\n",
              "dtype: int64"
            ]
          },
          "metadata": {},
          "execution_count": 7
        }
      ]
    },
    {
      "cell_type": "markdown",
      "source": [
        "I'll also look at the percentages of the missing value columns to beter understand how much data I'm actually missing."
      ],
      "metadata": {
        "id": "ApvMRwmOPfds"
      }
    },
    {
      "cell_type": "code",
      "source": [
        "df.isna().sum()/len(df)*100"
      ],
      "metadata": {
        "colab": {
          "base_uri": "https://localhost:8080/"
        },
        "id": "Ecp-iGmqPYuV",
        "outputId": "c81ba7bf-46e1-4dfb-e985-2ac744f37541"
      },
      "execution_count": 8,
      "outputs": [
        {
          "output_type": "execute_result",
          "data": {
            "text/plain": [
              "Team             0.000000\n",
              "League           0.000000\n",
              "Year             0.000000\n",
              "RS               0.000000\n",
              "RA               0.000000\n",
              "W                0.000000\n",
              "OBP              0.000000\n",
              "SLG              0.000000\n",
              "BA               0.000000\n",
              "Playoffs         0.000000\n",
              "RankSeason      80.194805\n",
              "RankPlayoffs    80.194805\n",
              "G                0.000000\n",
              "OOBP            65.909091\n",
              "OSLG            65.909091\n",
              "dtype: float64"
            ]
          },
          "metadata": {},
          "execution_count": 8
        }
      ]
    },
    {
      "cell_type": "markdown",
      "source": [
        "Looking at the data and understanding what each column means to the dataset, I am going to drop 2 of the rows. 'RankSeason' and 'RankPlayoff' are not necessary to predicting whether or not the team is going to make the playoffs. The column gives the seed rank of the team that makes the playoffs. 'RankPlayoff' is exclusive to those teams that make the playoffs, so it would act as a cheating tool for the training and testing sets in modeling. 'RankSeason' seems to do the same thing as 'RankPlayoff', so it will be dropped as well.\n",
        "\n",
        "The missing data in 'OOBP' and 'OSLG' will not be replaced for data exploration, but it will not be dropped for modeling either. These columns look at opponent on-base and slugging percentage, so they could still be useful in the predictions."
      ],
      "metadata": {
        "id": "DUDlTIl3QCy4"
      }
    },
    {
      "cell_type": "code",
      "source": [
        "df = df.drop(columns=['RankSeason', 'RankPlayoffs'])\n",
        "df.columns"
      ],
      "metadata": {
        "colab": {
          "base_uri": "https://localhost:8080/"
        },
        "id": "_toMAlUyUb6a",
        "outputId": "78429c73-9490-4913-f06a-c05a5fadfcf8"
      },
      "execution_count": 9,
      "outputs": [
        {
          "output_type": "execute_result",
          "data": {
            "text/plain": [
              "Index(['Team', 'League', 'Year', 'RS', 'RA', 'W', 'OBP', 'SLG', 'BA',\n",
              "       'Playoffs', 'G', 'OOBP', 'OSLG'],\n",
              "      dtype='object')"
            ]
          },
          "metadata": {},
          "execution_count": 9
        }
      ]
    },
    {
      "cell_type": "markdown",
      "source": [
        "###Checking for consistency in the data\n",
        "\n",
        "I will first check the categorical and numerical values for consistency and potential impossible numerical values."
      ],
      "metadata": {
        "id": "nZMs5m9QT5Jd"
      }
    },
    {
      "cell_type": "code",
      "source": [
        "# checking categorical data\n",
        "print(df['Team'].value_counts())\n",
        "print(df['League'].value_counts())"
      ],
      "metadata": {
        "colab": {
          "base_uri": "https://localhost:8080/"
        },
        "id": "5ALkApM_UYq-",
        "outputId": "08dcecfa-b89f-4634-c61e-05b1bc8d9761"
      },
      "execution_count": 10,
      "outputs": [
        {
          "output_type": "stream",
          "name": "stdout",
          "text": [
            "HOU    47\n",
            "DET    47\n",
            "NYY    47\n",
            "NYM    47\n",
            "MIN    47\n",
            "LAD    47\n",
            "SFG    47\n",
            "PIT    47\n",
            "PHI    47\n",
            "STL    47\n",
            "CLE    47\n",
            "CIN    47\n",
            "CHW    47\n",
            "CHC    47\n",
            "BOS    47\n",
            "BAL    47\n",
            "ATL    43\n",
            "OAK    41\n",
            "KCR    40\n",
            "SDP    40\n",
            "MIL    39\n",
            "TEX    37\n",
            "TOR    33\n",
            "SEA    33\n",
            "MON    32\n",
            "CAL    28\n",
            "COL    18\n",
            "FLA    17\n",
            "ARI    15\n",
            "LAA    11\n",
            "TBD    10\n",
            "WSA    10\n",
            "WSN     8\n",
            "ANA     8\n",
            "KCA     6\n",
            "TBR     5\n",
            "MLN     4\n",
            "MIA     1\n",
            "SEP     1\n",
            "Name: Team, dtype: int64\n",
            "NL    616\n",
            "AL    616\n",
            "Name: League, dtype: int64\n"
          ]
        }
      ]
    },
    {
      "cell_type": "markdown",
      "source": [
        "There are 30 teams in MLB currently, but there appear to be more than that in this dataset. I will double check this now without counting them individually."
      ],
      "metadata": {
        "id": "wMYxNGCeVfMM"
      }
    },
    {
      "cell_type": "code",
      "source": [
        "df['Team'].nunique()"
      ],
      "metadata": {
        "colab": {
          "base_uri": "https://localhost:8080/"
        },
        "id": "ReKhYZGuVXxg",
        "outputId": "f42a66c1-882f-4e4c-e4a3-f24e2a19cb3a"
      },
      "execution_count": 11,
      "outputs": [
        {
          "output_type": "execute_result",
          "data": {
            "text/plain": [
              "39"
            ]
          },
          "metadata": {},
          "execution_count": 11
        }
      ]
    },
    {
      "cell_type": "markdown",
      "source": [
        "There are teams that have gone by different names over the 50 years of the dataset, so some teams will be represented by different names as the years went on.\n",
        "\n",
        "___\n",
        "\n",
        "After checking the categorical data values, now I will check the numerical values and check for any impossible numbers in the dataset."
      ],
      "metadata": {
        "id": "isJp_0vYWF7a"
      }
    },
    {
      "cell_type": "code",
      "source": [
        "# checking the numerical values\n",
        "df.describe(include='number')"
      ],
      "metadata": {
        "colab": {
          "base_uri": "https://localhost:8080/",
          "height": 344
        },
        "id": "fug-dY82V7p6",
        "outputId": "4be2a3f9-2d26-4f26-ed20-20ec35200c17"
      },
      "execution_count": 12,
      "outputs": [
        {
          "output_type": "execute_result",
          "data": {
            "text/plain": [
              "              Year           RS           RA            W          OBP  \\\n",
              "count  1232.000000  1232.000000  1232.000000  1232.000000  1232.000000   \n",
              "mean   1988.957792   715.081981   715.081981    80.904221     0.326331   \n",
              "std      14.819625    91.534294    93.079933    11.458139     0.015013   \n",
              "min    1962.000000   463.000000   472.000000    40.000000     0.277000   \n",
              "25%    1976.750000   652.000000   649.750000    73.000000     0.317000   \n",
              "50%    1989.000000   711.000000   709.000000    81.000000     0.326000   \n",
              "75%    2002.000000   775.000000   774.250000    89.000000     0.337000   \n",
              "max    2012.000000  1009.000000  1103.000000   116.000000     0.373000   \n",
              "\n",
              "               SLG           BA     Playoffs            G        OOBP  \\\n",
              "count  1232.000000  1232.000000  1232.000000  1232.000000  420.000000   \n",
              "mean      0.397342     0.259273     0.198052   161.918831    0.332264   \n",
              "std       0.033267     0.012907     0.398693     0.624365    0.015295   \n",
              "min       0.301000     0.214000     0.000000   158.000000    0.294000   \n",
              "25%       0.375000     0.251000     0.000000   162.000000    0.321000   \n",
              "50%       0.396000     0.260000     0.000000   162.000000    0.331000   \n",
              "75%       0.421000     0.268000     0.000000   162.000000    0.343000   \n",
              "max       0.491000     0.294000     1.000000   165.000000    0.384000   \n",
              "\n",
              "             OSLG  \n",
              "count  420.000000  \n",
              "mean     0.419743  \n",
              "std      0.026510  \n",
              "min      0.346000  \n",
              "25%      0.401000  \n",
              "50%      0.419000  \n",
              "75%      0.438000  \n",
              "max      0.499000  "
            ],
            "text/html": [
              "\n",
              "  <div id=\"df-64d5e794-4eff-4863-a066-eab03fbb3df8\">\n",
              "    <div class=\"colab-df-container\">\n",
              "      <div>\n",
              "<style scoped>\n",
              "    .dataframe tbody tr th:only-of-type {\n",
              "        vertical-align: middle;\n",
              "    }\n",
              "\n",
              "    .dataframe tbody tr th {\n",
              "        vertical-align: top;\n",
              "    }\n",
              "\n",
              "    .dataframe thead th {\n",
              "        text-align: right;\n",
              "    }\n",
              "</style>\n",
              "<table border=\"1\" class=\"dataframe\">\n",
              "  <thead>\n",
              "    <tr style=\"text-align: right;\">\n",
              "      <th></th>\n",
              "      <th>Year</th>\n",
              "      <th>RS</th>\n",
              "      <th>RA</th>\n",
              "      <th>W</th>\n",
              "      <th>OBP</th>\n",
              "      <th>SLG</th>\n",
              "      <th>BA</th>\n",
              "      <th>Playoffs</th>\n",
              "      <th>G</th>\n",
              "      <th>OOBP</th>\n",
              "      <th>OSLG</th>\n",
              "    </tr>\n",
              "  </thead>\n",
              "  <tbody>\n",
              "    <tr>\n",
              "      <th>count</th>\n",
              "      <td>1232.000000</td>\n",
              "      <td>1232.000000</td>\n",
              "      <td>1232.000000</td>\n",
              "      <td>1232.000000</td>\n",
              "      <td>1232.000000</td>\n",
              "      <td>1232.000000</td>\n",
              "      <td>1232.000000</td>\n",
              "      <td>1232.000000</td>\n",
              "      <td>1232.000000</td>\n",
              "      <td>420.000000</td>\n",
              "      <td>420.000000</td>\n",
              "    </tr>\n",
              "    <tr>\n",
              "      <th>mean</th>\n",
              "      <td>1988.957792</td>\n",
              "      <td>715.081981</td>\n",
              "      <td>715.081981</td>\n",
              "      <td>80.904221</td>\n",
              "      <td>0.326331</td>\n",
              "      <td>0.397342</td>\n",
              "      <td>0.259273</td>\n",
              "      <td>0.198052</td>\n",
              "      <td>161.918831</td>\n",
              "      <td>0.332264</td>\n",
              "      <td>0.419743</td>\n",
              "    </tr>\n",
              "    <tr>\n",
              "      <th>std</th>\n",
              "      <td>14.819625</td>\n",
              "      <td>91.534294</td>\n",
              "      <td>93.079933</td>\n",
              "      <td>11.458139</td>\n",
              "      <td>0.015013</td>\n",
              "      <td>0.033267</td>\n",
              "      <td>0.012907</td>\n",
              "      <td>0.398693</td>\n",
              "      <td>0.624365</td>\n",
              "      <td>0.015295</td>\n",
              "      <td>0.026510</td>\n",
              "    </tr>\n",
              "    <tr>\n",
              "      <th>min</th>\n",
              "      <td>1962.000000</td>\n",
              "      <td>463.000000</td>\n",
              "      <td>472.000000</td>\n",
              "      <td>40.000000</td>\n",
              "      <td>0.277000</td>\n",
              "      <td>0.301000</td>\n",
              "      <td>0.214000</td>\n",
              "      <td>0.000000</td>\n",
              "      <td>158.000000</td>\n",
              "      <td>0.294000</td>\n",
              "      <td>0.346000</td>\n",
              "    </tr>\n",
              "    <tr>\n",
              "      <th>25%</th>\n",
              "      <td>1976.750000</td>\n",
              "      <td>652.000000</td>\n",
              "      <td>649.750000</td>\n",
              "      <td>73.000000</td>\n",
              "      <td>0.317000</td>\n",
              "      <td>0.375000</td>\n",
              "      <td>0.251000</td>\n",
              "      <td>0.000000</td>\n",
              "      <td>162.000000</td>\n",
              "      <td>0.321000</td>\n",
              "      <td>0.401000</td>\n",
              "    </tr>\n",
              "    <tr>\n",
              "      <th>50%</th>\n",
              "      <td>1989.000000</td>\n",
              "      <td>711.000000</td>\n",
              "      <td>709.000000</td>\n",
              "      <td>81.000000</td>\n",
              "      <td>0.326000</td>\n",
              "      <td>0.396000</td>\n",
              "      <td>0.260000</td>\n",
              "      <td>0.000000</td>\n",
              "      <td>162.000000</td>\n",
              "      <td>0.331000</td>\n",
              "      <td>0.419000</td>\n",
              "    </tr>\n",
              "    <tr>\n",
              "      <th>75%</th>\n",
              "      <td>2002.000000</td>\n",
              "      <td>775.000000</td>\n",
              "      <td>774.250000</td>\n",
              "      <td>89.000000</td>\n",
              "      <td>0.337000</td>\n",
              "      <td>0.421000</td>\n",
              "      <td>0.268000</td>\n",
              "      <td>0.000000</td>\n",
              "      <td>162.000000</td>\n",
              "      <td>0.343000</td>\n",
              "      <td>0.438000</td>\n",
              "    </tr>\n",
              "    <tr>\n",
              "      <th>max</th>\n",
              "      <td>2012.000000</td>\n",
              "      <td>1009.000000</td>\n",
              "      <td>1103.000000</td>\n",
              "      <td>116.000000</td>\n",
              "      <td>0.373000</td>\n",
              "      <td>0.491000</td>\n",
              "      <td>0.294000</td>\n",
              "      <td>1.000000</td>\n",
              "      <td>165.000000</td>\n",
              "      <td>0.384000</td>\n",
              "      <td>0.499000</td>\n",
              "    </tr>\n",
              "  </tbody>\n",
              "</table>\n",
              "</div>\n",
              "      <button class=\"colab-df-convert\" onclick=\"convertToInteractive('df-64d5e794-4eff-4863-a066-eab03fbb3df8')\"\n",
              "              title=\"Convert this dataframe to an interactive table.\"\n",
              "              style=\"display:none;\">\n",
              "        \n",
              "  <svg xmlns=\"http://www.w3.org/2000/svg\" height=\"24px\"viewBox=\"0 0 24 24\"\n",
              "       width=\"24px\">\n",
              "    <path d=\"M0 0h24v24H0V0z\" fill=\"none\"/>\n",
              "    <path d=\"M18.56 5.44l.94 2.06.94-2.06 2.06-.94-2.06-.94-.94-2.06-.94 2.06-2.06.94zm-11 1L8.5 8.5l.94-2.06 2.06-.94-2.06-.94L8.5 2.5l-.94 2.06-2.06.94zm10 10l.94 2.06.94-2.06 2.06-.94-2.06-.94-.94-2.06-.94 2.06-2.06.94z\"/><path d=\"M17.41 7.96l-1.37-1.37c-.4-.4-.92-.59-1.43-.59-.52 0-1.04.2-1.43.59L10.3 9.45l-7.72 7.72c-.78.78-.78 2.05 0 2.83L4 21.41c.39.39.9.59 1.41.59.51 0 1.02-.2 1.41-.59l7.78-7.78 2.81-2.81c.8-.78.8-2.07 0-2.86zM5.41 20L4 18.59l7.72-7.72 1.47 1.35L5.41 20z\"/>\n",
              "  </svg>\n",
              "      </button>\n",
              "      \n",
              "  <style>\n",
              "    .colab-df-container {\n",
              "      display:flex;\n",
              "      flex-wrap:wrap;\n",
              "      gap: 12px;\n",
              "    }\n",
              "\n",
              "    .colab-df-convert {\n",
              "      background-color: #E8F0FE;\n",
              "      border: none;\n",
              "      border-radius: 50%;\n",
              "      cursor: pointer;\n",
              "      display: none;\n",
              "      fill: #1967D2;\n",
              "      height: 32px;\n",
              "      padding: 0 0 0 0;\n",
              "      width: 32px;\n",
              "    }\n",
              "\n",
              "    .colab-df-convert:hover {\n",
              "      background-color: #E2EBFA;\n",
              "      box-shadow: 0px 1px 2px rgba(60, 64, 67, 0.3), 0px 1px 3px 1px rgba(60, 64, 67, 0.15);\n",
              "      fill: #174EA6;\n",
              "    }\n",
              "\n",
              "    [theme=dark] .colab-df-convert {\n",
              "      background-color: #3B4455;\n",
              "      fill: #D2E3FC;\n",
              "    }\n",
              "\n",
              "    [theme=dark] .colab-df-convert:hover {\n",
              "      background-color: #434B5C;\n",
              "      box-shadow: 0px 1px 3px 1px rgba(0, 0, 0, 0.15);\n",
              "      filter: drop-shadow(0px 1px 2px rgba(0, 0, 0, 0.3));\n",
              "      fill: #FFFFFF;\n",
              "    }\n",
              "  </style>\n",
              "\n",
              "      <script>\n",
              "        const buttonEl =\n",
              "          document.querySelector('#df-64d5e794-4eff-4863-a066-eab03fbb3df8 button.colab-df-convert');\n",
              "        buttonEl.style.display =\n",
              "          google.colab.kernel.accessAllowed ? 'block' : 'none';\n",
              "\n",
              "        async function convertToInteractive(key) {\n",
              "          const element = document.querySelector('#df-64d5e794-4eff-4863-a066-eab03fbb3df8');\n",
              "          const dataTable =\n",
              "            await google.colab.kernel.invokeFunction('convertToInteractive',\n",
              "                                                     [key], {});\n",
              "          if (!dataTable) return;\n",
              "\n",
              "          const docLinkHtml = 'Like what you see? Visit the ' +\n",
              "            '<a target=\"_blank\" href=https://colab.research.google.com/notebooks/data_table.ipynb>data table notebook</a>'\n",
              "            + ' to learn more about interactive tables.';\n",
              "          element.innerHTML = '';\n",
              "          dataTable['output_type'] = 'display_data';\n",
              "          await google.colab.output.renderOutput(dataTable, element);\n",
              "          const docLink = document.createElement('div');\n",
              "          docLink.innerHTML = docLinkHtml;\n",
              "          element.appendChild(docLink);\n",
              "        }\n",
              "      </script>\n",
              "    </div>\n",
              "  </div>\n",
              "  "
            ]
          },
          "metadata": {},
          "execution_count": 12
        }
      ]
    },
    {
      "cell_type": "markdown",
      "source": [
        "All of the numerical values look good, so now I will move on to the data exploratory analysis."
      ],
      "metadata": {
        "id": "IxL1h0qiXEad"
      }
    },
    {
      "cell_type": "markdown",
      "source": [
        "## Exploratory Data Analysis"
      ],
      "metadata": {
        "id": "n2YLRbc2Xi1B"
      }
    },
    {
      "cell_type": "markdown",
      "source": [
        "The number of wins dictates which teams make the playoffs and which don't. The number varies from year to year, depending on the performance of teams in certain divisions. One thing that will be helpful to visualize will be to see the most successful teams over the 50 year period from 1962-2012. To do this, I will see the average number of wins per team in the dataset and plot them in a barplot."
      ],
      "metadata": {
        "id": "rPTaz3HeaJHJ"
      }
    },
    {
      "cell_type": "code",
      "source": [
        "avg_wins = df.groupby(['Team'])['W'].mean().sort_values(ascending=False)\n",
        "avg_wins"
      ],
      "metadata": {
        "colab": {
          "base_uri": "https://localhost:8080/"
        },
        "id": "wqr4WmOFW2Wt",
        "outputId": "42928169-2512-4db4-9449-fce1905e0b8d"
      },
      "execution_count": 13,
      "outputs": [
        {
          "output_type": "execute_result",
          "data": {
            "text/plain": [
              "Team\n",
              "TBR    91.600000\n",
              "NYY    90.255319\n",
              "LAA    88.000000\n",
              "LAD    86.489362\n",
              "MLN    86.000000\n",
              "BOS    85.893617\n",
              "STL    85.723404\n",
              "SFG    84.574468\n",
              "OAK    84.097561\n",
              "CIN    84.021277\n",
              "ATL    83.395349\n",
              "BAL    83.361702\n",
              "ANA    83.000000\n",
              "PHI    82.319149\n",
              "MIN    81.723404\n",
              "CHW    81.659574\n",
              "TOR    81.212121\n",
              "ARI    80.666667\n",
              "DET    80.276596\n",
              "TEX    79.945946\n",
              "PIT    79.489362\n",
              "HOU    78.978723\n",
              "CAL    78.178571\n",
              "MIL    77.846154\n",
              "MON    77.656250\n",
              "CLE    77.489362\n",
              "FLA    77.470588\n",
              "CHC    77.425532\n",
              "NYM    77.382979\n",
              "KCR    77.325000\n",
              "COL    76.166667\n",
              "SDP    75.725000\n",
              "SEA    75.515152\n",
              "WSN    73.750000\n",
              "MIA    69.000000\n",
              "WSA    67.900000\n",
              "KCA    66.166667\n",
              "TBD    64.500000\n",
              "SEP    64.000000\n",
              "Name: W, dtype: float64"
            ]
          },
          "metadata": {},
          "execution_count": 13
        }
      ]
    },
    {
      "cell_type": "code",
      "source": [
        "# plotting with a barplot\n",
        "with plt.style.context('seaborn-dark-palette'): \n",
        "  fig, ax = plt.subplots(figsize = (18,7))\n",
        "  plt.bar(avg_wins.index, avg_wins.values);\n",
        "  plt.xlabel('Team', fontsize=16, fontweight='bold')\n",
        "  plt.ylabel('Number of Wins', fontsize=16, fontweight='bold')\n",
        "  plt.title('Average Number of Wins per Team from 1962-2012', fontsize=24, fontweight='black', fontfamily='serif')\n",
        "  plt.xticks(rotation = 90);"
      ],
      "metadata": {
        "colab": {
          "base_uri": "https://localhost:8080/",
          "height": 487
        },
        "id": "5nKlCIHTboLo",
        "outputId": "c52af4c7-350f-45b3-c138-dcf4736b132c"
      },
      "execution_count": 14,
      "outputs": [
        {
          "output_type": "display_data",
          "data": {
            "text/plain": [
              "<Figure size 1296x504 with 1 Axes>"
            ],
            "image/png": "[encoded data removed]"
          },
          "metadata": {
            "needs_background": "light"
          }
        }
      ]
    },
    {
      "cell_type": "markdown",
      "source": [
        "TBR, or the Tampa Bay Rays, have the highest average number of wins during the 50 year period. This graph is really useful in seeing the teams that have had the highest level of success. The Athletics are in the top 10 of teams in wins, so their formula for success seems to have helped their season to season performance.\n",
        "\n",
        "Another good measure of team success is seeing how runs allowed ('RA') differs between playoff teams and non playoff teams. Good pitching and defense has been theorized to be a vital component to successful teams, so I can view that with a boxplot between the 2."
      ],
      "metadata": {
        "id": "8x5WZRmtPfwI"
      }
    },
    {
      "cell_type": "code",
      "source": [
        "sns.boxplot(x='Playoffs', y='RA', data=df, notch=True);\n",
        "plt.title('Runs Allowed by Playoff vs. Non-playoff Teams', fontsize=16, fontweight='black');"
      ],
      "metadata": {
        "colab": {
          "base_uri": "https://localhost:8080/",
          "height": 297
        },
        "id": "9IoetEsidtUA",
        "outputId": "9cd27431-e860-447f-864a-030f2d766ea9"
      },
      "execution_count": 20,
      "outputs": [
        {
          "output_type": "display_data",
          "data": {
            "text/plain": [
              "<Figure size 432x288 with 1 Axes>"
            ],
            "image/png": "[encoded data removed]"
          },
          "metadata": {
            "needs_background": "light"
          }
        }
      ]
    },
    {
      "cell_type": "markdown",
      "source": [
        "From the boxplot, I can see that the median for runs allowed is lower for the playoff teams than those that don't. There are a few outliers for both categories of teams above the value sets as well, although the outliers are much lower for the playoff teams."
      ],
      "metadata": {
        "id": "YQeNpLM9eTlj"
      }
    },
    {
      "cell_type": "markdown",
      "source": [
        "##Explanatory Data Analysis (started early)"
      ],
      "metadata": {
        "id": "2eP74BpXfOWt"
      }
    },
    {
      "cell_type": "markdown",
      "source": [
        "Next, I want to see the distribution of wins and OBP and see what plots lead to a playoff spot. I can achieve this by creating a scatterplot and plotting the wins on the x-axis and OBP on the y-axis. This will give me a good idea of how well a higher OBP leads to team wins."
      ],
      "metadata": {
        "id": "kJw2mVnzdKeL"
      }
    },
    {
      "cell_type": "code",
      "source": [
        "# filtering the dataset for last 25 years\n",
        "obp_df = df[df['Year'] > 1987]\n",
        "obp_df"
      ],
      "metadata": {
        "colab": {
          "base_uri": "https://localhost:8080/",
          "height": 423
        },
        "id": "SQPPpEYQcQOu",
        "outputId": "4a463bf0-638e-429e-d661-d64570537a78"
      },
      "execution_count": null,
      "outputs": [
        {
          "output_type": "execute_result",
          "data": {
            "text/plain": [
              "    Team League  Year   RS   RA   W    OBP    SLG     BA  Playoffs    G  \\\n",
              "0    ARI     NL  2012  734  688  81  0.328  0.418  0.259         0  162   \n",
              "1    ATL     NL  2012  700  600  94  0.320  0.389  0.247         1  162   \n",
              "2    BAL     AL  2012  712  705  93  0.311  0.417  0.247         1  162   \n",
              "3    BOS     AL  2012  734  806  69  0.315  0.415  0.260         0  162   \n",
              "4    CHC     NL  2012  613  759  61  0.302  0.378  0.240         0  162   \n",
              "..   ...    ...   ...  ...  ...  ..    ...    ...    ...       ...  ...   \n",
              "659  SEA     AL  1988  664  744  68  0.317  0.398  0.257         0  161   \n",
              "660  SFG     NL  1988  670  626  83  0.318  0.368  0.248         0  162   \n",
              "661  STL     NL  1988  578  633  76  0.309  0.337  0.249         0  162   \n",
              "662  TEX     AL  1988  637  735  70  0.320  0.368  0.252         0  161   \n",
              "663  TOR     AL  1988  763  680  87  0.332  0.419  0.268         0  162   \n",
              "\n",
              "      OOBP   OSLG  \n",
              "0    0.317  0.415  \n",
              "1    0.306  0.378  \n",
              "2    0.315  0.403  \n",
              "3    0.331  0.428  \n",
              "4    0.335  0.424  \n",
              "..     ...    ...  \n",
              "659    NaN    NaN  \n",
              "660    NaN    NaN  \n",
              "661    NaN    NaN  \n",
              "662    NaN    NaN  \n",
              "663    NaN    NaN  \n",
              "\n",
              "[664 rows x 13 columns]"
            ],
            "text/html": [
              "\n",
              "  <div id=\"df-b0c938a9-5079-4603-8477-5fe8ff9260ca\">\n",
              "    <div class=\"colab-df-container\">\n",
              "      <div>\n",
              "<style scoped>\n",
              "    .dataframe tbody tr th:only-of-type {\n",
              "        vertical-align: middle;\n",
              "    }\n",
              "\n",
              "    .dataframe tbody tr th {\n",
              "        vertical-align: top;\n",
              "    }\n",
              "\n",
              "    .dataframe thead th {\n",
              "        text-align: right;\n",
              "    }\n",
              "</style>\n",
              "<table border=\"1\" class=\"dataframe\">\n",
              "  <thead>\n",
              "    <tr style=\"text-align: right;\">\n",
              "      <th></th>\n",
              "      <th>Team</th>\n",
              "      <th>League</th>\n",
              "      <th>Year</th>\n",
              "      <th>RS</th>\n",
              "      <th>RA</th>\n",
              "      <th>W</th>\n",
              "      <th>OBP</th>\n",
              "      <th>SLG</th>\n",
              "      <th>BA</th>\n",
              "      <th>Playoffs</th>\n",
              "      <th>G</th>\n",
              "      <th>OOBP</th>\n",
              "      <th>OSLG</th>\n",
              "    </tr>\n",
              "  </thead>\n",
              "  <tbody>\n",
              "    <tr>\n",
              "      <th>0</th>\n",
              "      <td>ARI</td>\n",
              "      <td>NL</td>\n",
              "      <td>2012</td>\n",
              "      <td>734</td>\n",
              "      <td>688</td>\n",
              "      <td>81</td>\n",
              "      <td>0.328</td>\n",
              "      <td>0.418</td>\n",
              "      <td>0.259</td>\n",
              "      <td>0</td>\n",
              "      <td>162</td>\n",
              "      <td>0.317</td>\n",
              "      <td>0.415</td>\n",
              "    </tr>\n",
              "    <tr>\n",
              "      <th>1</th>\n",
              "      <td>ATL</td>\n",
              "      <td>NL</td>\n",
              "      <td>2012</td>\n",
              "      <td>700</td>\n",
              "      <td>600</td>\n",
              "      <td>94</td>\n",
              "      <td>0.320</td>\n",
              "      <td>0.389</td>\n",
              "      <td>0.247</td>\n",
              "      <td>1</td>\n",
              "      <td>162</td>\n",
              "      <td>0.306</td>\n",
              "      <td>0.378</td>\n",
              "    </tr>\n",
              "    <tr>\n",
              "      <th>2</th>\n",
              "      <td>BAL</td>\n",
              "      <td>AL</td>\n",
              "      <td>2012</td>\n",
              "      <td>712</td>\n",
              "      <td>705</td>\n",
              "      <td>93</td>\n",
              "      <td>0.311</td>\n",
              "      <td>0.417</td>\n",
              "      <td>0.247</td>\n",
              "      <td>1</td>\n",
              "      <td>162</td>\n",
              "      <td>0.315</td>\n",
              "      <td>0.403</td>\n",
              "    </tr>\n",
              "    <tr>\n",
              "      <th>3</th>\n",
              "      <td>BOS</td>\n",
              "      <td>AL</td>\n",
              "      <td>2012</td>\n",
              "      <td>734</td>\n",
              "      <td>806</td>\n",
              "      <td>69</td>\n",
              "      <td>0.315</td>\n",
              "      <td>0.415</td>\n",
              "      <td>0.260</td>\n",
              "      <td>0</td>\n",
              "      <td>162</td>\n",
              "      <td>0.331</td>\n",
              "      <td>0.428</td>\n",
              "    </tr>\n",
              "    <tr>\n",
              "      <th>4</th>\n",
              "      <td>CHC</td>\n",
              "      <td>NL</td>\n",
              "      <td>2012</td>\n",
              "      <td>613</td>\n",
              "      <td>759</td>\n",
              "      <td>61</td>\n",
              "      <td>0.302</td>\n",
              "      <td>0.378</td>\n",
              "      <td>0.240</td>\n",
              "      <td>0</td>\n",
              "      <td>162</td>\n",
              "      <td>0.335</td>\n",
              "      <td>0.424</td>\n",
              "    </tr>\n",
              "    <tr>\n",
              "      <th>...</th>\n",
              "      <td>...</td>\n",
              "      <td>...</td>\n",
              "      <td>...</td>\n",
              "      <td>...</td>\n",
              "      <td>...</td>\n",
              "      <td>...</td>\n",
              "      <td>...</td>\n",
              "      <td>...</td>\n",
              "      <td>...</td>\n",
              "      <td>...</td>\n",
              "      <td>...</td>\n",
              "      <td>...</td>\n",
              "      <td>...</td>\n",
              "    </tr>\n",
              "    <tr>\n",
              "      <th>659</th>\n",
              "      <td>SEA</td>\n",
              "      <td>AL</td>\n",
              "      <td>1988</td>\n",
              "      <td>664</td>\n",
              "      <td>744</td>\n",
              "      <td>68</td>\n",
              "      <td>0.317</td>\n",
              "      <td>0.398</td>\n",
              "      <td>0.257</td>\n",
              "      <td>0</td>\n",
              "      <td>161</td>\n",
              "      <td>NaN</td>\n",
              "      <td>NaN</td>\n",
              "    </tr>\n",
              "    <tr>\n",
              "      <th>660</th>\n",
              "      <td>SFG</td>\n",
              "      <td>NL</td>\n",
              "      <td>1988</td>\n",
              "      <td>670</td>\n",
              "      <td>626</td>\n",
              "      <td>83</td>\n",
              "      <td>0.318</td>\n",
              "      <td>0.368</td>\n",
              "      <td>0.248</td>\n",
              "      <td>0</td>\n",
              "      <td>162</td>\n",
              "      <td>NaN</td>\n",
              "      <td>NaN</td>\n",
              "    </tr>\n",
              "    <tr>\n",
              "      <th>661</th>\n",
              "      <td>STL</td>\n",
              "      <td>NL</td>\n",
              "      <td>1988</td>\n",
              "      <td>578</td>\n",
              "      <td>633</td>\n",
              "      <td>76</td>\n",
              "      <td>0.309</td>\n",
              "      <td>0.337</td>\n",
              "      <td>0.249</td>\n",
              "      <td>0</td>\n",
              "      <td>162</td>\n",
              "      <td>NaN</td>\n",
              "      <td>NaN</td>\n",
              "    </tr>\n",
              "    <tr>\n",
              "      <th>662</th>\n",
              "      <td>TEX</td>\n",
              "      <td>AL</td>\n",
              "      <td>1988</td>\n",
              "      <td>637</td>\n",
              "      <td>735</td>\n",
              "      <td>70</td>\n",
              "      <td>0.320</td>\n",
              "      <td>0.368</td>\n",
              "      <td>0.252</td>\n",
              "      <td>0</td>\n",
              "      <td>161</td>\n",
              "      <td>NaN</td>\n",
              "      <td>NaN</td>\n",
              "    </tr>\n",
              "    <tr>\n",
              "      <th>663</th>\n",
              "      <td>TOR</td>\n",
              "      <td>AL</td>\n",
              "      <td>1988</td>\n",
              "      <td>763</td>\n",
              "      <td>680</td>\n",
              "      <td>87</td>\n",
              "      <td>0.332</td>\n",
              "      <td>0.419</td>\n",
              "      <td>0.268</td>\n",
              "      <td>0</td>\n",
              "      <td>162</td>\n",
              "      <td>NaN</td>\n",
              "      <td>NaN</td>\n",
              "    </tr>\n",
              "  </tbody>\n",
              "</table>\n",
              "<p>664 rows × 13 columns</p>\n",
              "</div>\n",
              "      <button class=\"colab-df-convert\" onclick=\"convertToInteractive('df-b0c938a9-5079-4603-8477-5fe8ff9260ca')\"\n",
              "              title=\"Convert this dataframe to an interactive table.\"\n",
              "              style=\"display:none;\">\n",
              "        \n",
              "  <svg xmlns=\"http://www.w3.org/2000/svg\" height=\"24px\"viewBox=\"0 0 24 24\"\n",
              "       width=\"24px\">\n",
              "    <path d=\"M0 0h24v24H0V0z\" fill=\"none\"/>\n",
              "    <path d=\"M18.56 5.44l.94 2.06.94-2.06 2.06-.94-2.06-.94-.94-2.06-.94 2.06-2.06.94zm-11 1L8.5 8.5l.94-2.06 2.06-.94-2.06-.94L8.5 2.5l-.94 2.06-2.06.94zm10 10l.94 2.06.94-2.06 2.06-.94-2.06-.94-.94-2.06-.94 2.06-2.06.94z\"/><path d=\"M17.41 7.96l-1.37-1.37c-.4-.4-.92-.59-1.43-.59-.52 0-1.04.2-1.43.59L10.3 9.45l-7.72 7.72c-.78.78-.78 2.05 0 2.83L4 21.41c.39.39.9.59 1.41.59.51 0 1.02-.2 1.41-.59l7.78-7.78 2.81-2.81c.8-.78.8-2.07 0-2.86zM5.41 20L4 18.59l7.72-7.72 1.47 1.35L5.41 20z\"/>\n",
              "  </svg>\n",
              "      </button>\n",
              "      \n",
              "  <style>\n",
              "    .colab-df-container {\n",
              "      display:flex;\n",
              "      flex-wrap:wrap;\n",
              "      gap: 12px;\n",
              "    }\n",
              "\n",
              "    .colab-df-convert {\n",
              "      background-color: #E8F0FE;\n",
              "      border: none;\n",
              "      border-radius: 50%;\n",
              "      cursor: pointer;\n",
              "      display: none;\n",
              "      fill: #1967D2;\n",
              "      height: 32px;\n",
              "      padding: 0 0 0 0;\n",
              "      width: 32px;\n",
              "    }\n",
              "\n",
              "    .colab-df-convert:hover {\n",
              "      background-color: #E2EBFA;\n",
              "      box-shadow: 0px 1px 2px rgba(60, 64, 67, 0.3), 0px 1px 3px 1px rgba(60, 64, 67, 0.15);\n",
              "      fill: #174EA6;\n",
              "    }\n",
              "\n",
              "    [theme=dark] .colab-df-convert {\n",
              "      background-color: #3B4455;\n",
              "      fill: #D2E3FC;\n",
              "    }\n",
              "\n",
              "    [theme=dark] .colab-df-convert:hover {\n",
              "      background-color: #434B5C;\n",
              "      box-shadow: 0px 1px 3px 1px rgba(0, 0, 0, 0.15);\n",
              "      filter: drop-shadow(0px 1px 2px rgba(0, 0, 0, 0.3));\n",
              "      fill: #FFFFFF;\n",
              "    }\n",
              "  </style>\n",
              "\n",
              "      <script>\n",
              "        const buttonEl =\n",
              "          document.querySelector('#df-b0c938a9-5079-4603-8477-5fe8ff9260ca button.colab-df-convert');\n",
              "        buttonEl.style.display =\n",
              "          google.colab.kernel.accessAllowed ? 'block' : 'none';\n",
              "\n",
              "        async function convertToInteractive(key) {\n",
              "          const element = document.querySelector('#df-b0c938a9-5079-4603-8477-5fe8ff9260ca');\n",
              "          const dataTable =\n",
              "            await google.colab.kernel.invokeFunction('convertToInteractive',\n",
              "                                                     [key], {});\n",
              "          if (!dataTable) return;\n",
              "\n",
              "          const docLinkHtml = 'Like what you see? Visit the ' +\n",
              "            '<a target=\"_blank\" href=https://colab.research.google.com/notebooks/data_table.ipynb>data table notebook</a>'\n",
              "            + ' to learn more about interactive tables.';\n",
              "          element.innerHTML = '';\n",
              "          dataTable['output_type'] = 'display_data';\n",
              "          await google.colab.output.renderOutput(dataTable, element);\n",
              "          const docLink = document.createElement('div');\n",
              "          docLink.innerHTML = docLinkHtml;\n",
              "          element.appendChild(docLink);\n",
              "        }\n",
              "      </script>\n",
              "    </div>\n",
              "  </div>\n",
              "  "
            ]
          },
          "metadata": {},
          "execution_count": 54
        }
      ]
    },
    {
      "cell_type": "code",
      "source": [
        "# creating the plot with Seaborn\n",
        "with plt.style.context('seaborn-dark-palette'):\n",
        "  g = sns.lmplot(data=obp_df, x='OBP', y='W', hue='Playoffs', legend=False, aspect=2)\n",
        "  plt.xlabel('OBP', fontsize=16, fontweight='bold')\n",
        "  plt.ylabel('Wins', fontsize=16, fontweight='bold')\n",
        "  plt.title('Effect of OBP on Wins for Playoff and Non-Playoff Teams',\n",
        "            fontsize=20,\n",
        "            fontweight='black')\n",
        "  plt.legend(loc='upper left', labels=['Not a Playoff Team', 'Playoff Team']);"
      ],
      "metadata": {
        "colab": {
          "base_uri": "https://localhost:8080/",
          "height": 395
        },
        "id": "Shx3By8PO_ol",
        "outputId": "393fe3f4-14d4-4971-f79a-9827f3a0ff1d"
      },
      "execution_count": null,
      "outputs": [
        {
          "output_type": "display_data",
          "data": {
            "text/plain": [
              "<Figure size 720x360 with 1 Axes>"
            ],
            "image/png": "[encoded data removed]"
          },
          "metadata": {
            "needs_background": "light"
          }
        }
      ]
    },
    {
      "cell_type": "markdown",
      "source": [
        "For teams over the last 25 years of the dataset, it looks like the OBP gave teams a slightly better chance of making the playoffs, as the data points for teams that won are shifted farther to the right than the teams that did not make the playoffs.\n",
        "\n",
        "Source for changing legend labels: https://stackoverflow.com/questions/45201514/how-to-edit-a-seaborn-legend-title-and-labels-for-figure-level-functions"
      ],
      "metadata": {
        "id": "WlLHhu6pexmj"
      }
    },
    {
      "cell_type": "code",
      "source": [],
      "metadata": {
        "id": "WXjkSobXR97u"
      },
      "execution_count": null,
      "outputs": []
    }
  ]
}